{
 "cells": [
  {
   "cell_type": "code",
   "execution_count": 1,
   "metadata": {},
   "outputs": [],
   "source": [
    "# MFCC\n",
    "# Import modules\n",
    "import numpy as np\n",
    "import scipy.io.wavfile\n",
    "from scipy.fftpack import dct\n",
    "# Import data\n",
    "fs, data = scipy.io.wavfile.read('digits/1a.wav')\n",
    "# Set window size\n",
    "win_size = 0.025 # ms\n",
    "win_shift = 0.010 # ms\n",
    "# Convert from seconds to samples\n",
    "win_len, win_step = win_size*fs, win_shift*fs\n",
    "nsamples = len(data)\n",
    "win_len = int(round(win_len))\n",
    "win_step = int(round(win_step))\n",
    "# Round up for number of windows so can't be 0\n",
    "nwins = int(np.ceil(float(np.abs(nsamples - win_len))/win_step))\n",
    "# Pad signal so can divide exactly into windows\n",
    "npad = nwins * win_step + win_len\n",
    "data = np.append(data, np.zeros((npad - nsamples))) # Pad signal to make sure that all frames have equal number of samples without truncating any samples from the original signal\n",
    "# Extract windows\n",
    "indices = np.tile(np.arange(0, win_len), (nwins, 1)) + np.tile(np.arange(0, nwins*win_step, win_step), (win_len, 1)).T\n",
    "wins = data[indices.astype(np.int32, copy = False)]\n",
    "# Apply hamming window\n",
    "wins *= np.hamming(win_len)\n",
    "# Calculate fft\n",
    "NFFT = 512\n",
    "# Extract magnitude of the FFT over windows\n",
    "mag_wins = np.absolute(np.fft.rfft(wins, NFFT))\n",
    "# Convert to power Spectrum\n",
    "pow_wins = ((1.0/NFFT)*((mag_wins)**2))\n",
    "# Apply Mel-frequency triangular filters\n",
    "# Number of filters\n",
    "nfilts = 40\n",
    "# Mel-frequency range\n",
    "low_freq_mel = 0\n",
    "high_freq_mel = (2595 * np.log10(1 + (fs/2)/700))\n",
    "# Create equally spaced points in Mel scale\n",
    "mel_pts = np.linspace(low_freq_mel, high_freq_mel, nfilts + 2)\n",
    "# Calculate Hz correspondence\n",
    "hz_pts = (700*(10**(mel_pts/2595) - 1))\n",
    "bin = np.floor((NFFT + 1)*hz_pts/fs)\n",
    "# Calculate Mel-filter banks\n",
    "fbank = np.zeros((nfilts, int(np.floor(NFFT/2 + 1))))\n",
    "for m in range(1, nfilts + 1):\n",
    "    # Calculate edge and center frequencies\n",
    "    f_m_minus = int(bin[m - 1])\n",
    "    f_m = int(bin[m])\n",
    "    f_m_plus = int(bin[m + 1])\n",
    "    for k in range(f_m_minus, f_m):\n",
    "        fbank[m - 1, k] = (k - bin[m - 1])/(bin[m] - bin[m - 1])\n",
    "    for k in range(f_m, f_m_plus):\n",
    "        fbank[m - 1, k] = (bin[m + 1] - k)/(bin[m + 1] - bin[m])\n",
    "fbanks = np.dot(pow_wins, fbank.T)\n",
    "fbanks = np.where(fbanks == 0, np.finfo(float).eps, fbanks)  # Numerical Stability\n",
    "# Convert to dB\n",
    "fbanks = 20 * np.log10(fbanks)\n",
    "# Extract Mel-frequency cepstral coefficients (MFCCs)\n",
    "nceps = 12\n",
    "mfccs = dct(fbanks, type = 2, axis = 1, norm = 'ortho')[:, 1:(nceps + 1)] # Keep 2nd onwards"
   ]
  },
  {
   "cell_type": "code",
   "execution_count": 2,
   "metadata": {},
   "outputs": [
    {
     "data": {
      "text/plain": [
       "3.0"
      ]
     },
     "execution_count": 2,
     "metadata": {},
     "output_type": "execute_result"
    }
   ],
   "source": [
    "# DTW\n",
    "# Import modules\n",
    "import math\n",
    "import numpy as np\n",
    "import operator\n",
    "# Create function to calculate Euclidean distance between feature vectors\n",
    "def eudistVec(x, y):\n",
    "    # Convert scalar inputs to vectors\n",
    "    if not type(x) is list:\n",
    "        x = [x]\n",
    "    if not type(y) is list:\n",
    "        y = [y]\n",
    "        # Return Euclidean distance\n",
    "    return math.sqrt(sum(list(map(lambda x, y: (x - y)**2, x, y))))\n",
    "# Create function to do dynamic time warp\n",
    "def dynamTimeWarp(x, y):\n",
    "    # Convert scalar inputs to vectors\n",
    "    if not type(x) is list:\n",
    "        x = x.tolist()\n",
    "    if not type(y) is list:\n",
    "        y = y.tolist()\n",
    "    # Initialize path matrix\n",
    "    DTW = np.zeros([len(x), len(y)])\n",
    "    # Calculate paths\n",
    "    for i in range(len(x)):\n",
    "        for j in range(len(y)):\n",
    "            dist = eudistVec(x[i], y[j])\n",
    "            if not i and not j:\n",
    "                choices = float('inf'), float('inf'), 0\n",
    "            elif not i and j:\n",
    "                choices = float('inf'), DTW[i, j-1], float('inf')\n",
    "            elif i and not j:\n",
    "                choices = DTW[i-1, j], float('inf'), float('inf')\n",
    "            else:\n",
    "                choices = DTW[i-1, j], DTW[i, j-1], DTW[i-1, j-1]\n",
    "            DTW[i, j] = dist + min(choices)\n",
    "    # Return score/error of best path (lower is better)\n",
    "    return DTW[-1, -1]\n",
    "# Test algorithm\n",
    "A = [[0, 0], [1, 0], [2, 0], [3, 0], [0, 0]]\n",
    "B = [[0, 0], [0, 0], [1, 1.5], [2, 1], [3, 0.5], [0, 0], [0, 0], [0, 0]]\n",
    "score = dynamTimeWarp(A, B)\n",
    "score"
   ]
  },
  {
   "cell_type": "code",
   "execution_count": 3,
   "metadata": {},
   "outputs": [
    {
     "data": {
      "text/plain": [
       "0.0"
      ]
     },
     "execution_count": 3,
     "metadata": {},
     "output_type": "execute_result"
    }
   ],
   "source": [
    "# Test algorithm on MFCCs\n",
    "dynamTimeWarp(mfccs, mfccs)"
   ]
  }
 ],
 "metadata": {
  "kernelspec": {
   "display_name": "Python 3",
   "language": "python",
   "name": "python3"
  },
  "language_info": {
   "codemirror_mode": {
    "name": "ipython",
    "version": 3
   },
   "file_extension": ".py",
   "mimetype": "text/x-python",
   "name": "python",
   "nbconvert_exporter": "python",
   "pygments_lexer": "ipython3",
   "version": "3.5.2"
  }
 },
 "nbformat": 4,
 "nbformat_minor": 2
}
